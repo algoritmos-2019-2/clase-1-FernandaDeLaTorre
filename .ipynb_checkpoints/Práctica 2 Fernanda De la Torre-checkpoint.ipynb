{
 "cells": [
  {
   "cell_type": "markdown",
   "metadata": {},
   "source": [
    "# Práctica 2 \n",
    "### Funciones\n",
    "1. ¿Por qué son ventajosas las funciones para tener en sus programas?\n",
    "\n",
    "Porque la extensión de la fuente del programa se puede reducir usando funciones en lugares apropiados.Este punto es crítico con computadoras de poca capacidad de almacenamiento. Además las funciones definidas por el usuario ayudan a descomponer un programa largo en pequeños segmentos que hacen al programa más fácil de comprender y así como si existe un código repetido en el programa, una función puede ser usada para incluir esos códigos y ejecutarse cuando son necesitadas a la hora de llamarla.\n",
    "\n",
    "2. ¿Cuándo se ejecuta el código en una función: cuando se define la función o cuando se llama a la función?\n",
    "\n",
    "Cuando se llama a la función. \n",
    "\n",
    "3. ¿Qué enunciado crea una función?\n",
    "\n",
    "La palabra clave def marca el inicio de la creación de una función. La sintaxis de una función es: \n",
    "def nombredela_función(parámetro): (El parámetro es donde escogemos valores va a tomar la función, es opcional). \n",
    "\"\"\"docstring\"\"\" (Es opcional y describe lo que hace la función). \n",
    "Statements (Unidad sintáctica de un lenguaje de programación que expresa que una acción se lleve a cabo).\n",
    "\n",
    "4. ¿Cuál es la diferencia entre una función y una llamada de función? \n",
    "\n",
    "Un programa se ejecuta cuando se llama una función que ha sido definida por un programador o por una librería que forma parte del programa. Es decir, definir una función no la ejecuta, definir una función simplemente la nombra y especifica que hacer cuando la función es llamada. Llamar la función es lo que realmente realiza la acciones específicadas con los parámetros indicados. \n",
    "\n",
    "5. ¿Cuántos ámbitos globales hay en un programa de Python? ¿Cuántos ámbitos locales?\n",
    "\n",
    "Las variables locales sólo existen en una propia función y no son accesibles desde niveles superiores ya que a la hora de asignarles un valor en cualquier lugar de la función se asume que es local a menos de que se declare explícitamente como global, por lo que se ven desde un nivel superior no existen, mientras que una es varible global si se le asigna en el programa principal la variable. Pero en general, pueden haber  un número considerablemente grande en un programa de variables tanto locales como globales mientras cumplan con las propiedades descritas. \n",
    "Por lo que se dice que existe un ámbito gobal y varios locales. \n",
    "\n",
    "6. ¿Qué sucede con las variables en un ámbito local cuando se devuelve la llamada a la función?\n",
    "\n",
    "Pertenecen a otro ámbito local que se acaba de crear, incluso cuando se vuelve a llamar desde otra función. \n",
    "\n",
    "7. ¿Qué es un valor de retorno? ¿Cuál es el valor de retorno de una llamada a esa función? \n",
    "\n",
    "Las sentencias retorno en muchos lenguajes permiten que una función especifique un valor devuelto que se pasará de nuevo al código que llamó a la función. \n",
    "La instrucción retorno hace que la ejecución deje la subrutina actual y reanudar en el punto del código inmediatamente después de donde se llamó a la subrutina, conocida como una dirección de retorno. La dirección de devolución se guarda, normalmente en la pila de llamadas del proceso, como parte de la operación para realizar la subrutina. \n",
    "\n",
    "8. Si una función no tiene una declaración de retorno, ¿Cuál es el valor de retorno de una llamada a esa función?\n",
    "\n",
    "Ninguno, dado que aborta inmediatamente la ejecución de la llamada a la función.\n",
    "\n",
    "9. ¿Cómo puede forzar una variable en una función para referirse a la variable global?\n",
    "\n",
    "Si necesita modificar una variable global desde dentro de una función se usa la declaración global para que Python no la crea local. \n",
    "\n",
    "10. ¿Cuál es el tipo de datos de None? \n",
    "\n",
    "Python usa None para indicar un valor nulo o la ausencia de un valor, así como una función que no devuelve nada devuelve la ausencia de valor que es None. \n",
    "\n",
    "11. ¿Qué hace la declaración import random? \n",
    "\n",
    "Importa la librería random que ayuda a elegir un número aleatorio en un rango dado, así como tomar un elemento al azar de una lista, etcétera. El módulo random da acceso a funciones que soportan este tipo de operaciones.\n",
    "\n",
    "12. Si tuviera una función llamada randint() en un módulo llamado random, ¿Cómo lo llamaría después de importar random?\n",
    "\n",
    "Esta función devuelve un entero pseudoaleatorio entre a y b, la función de importa para poder usarla. La declaración de la importación random randint permite usar el nombre randint para llamar a la función.Si, en cambio se importara random se necesitaría usar la notación de puntos para especificar el nombre del módulo, en relación con el nombre de la función, para llamarlo. \n",
    "\n",
    "### Lista y tuplas\n",
    "1. ¿Qué es [ ]?\n",
    "\n",
    "En la notación de Python sirven para representar una lista, que debe estar entre estos corchetes y separados por comas. Si sólo están presentes los corchetes diremos que es una lista vacía. \n",
    "\n",
    "2. ¿Cómo asignaría el valor 'hola' como el tercer valor en una lista almacenada? ¿En una variable llamada spam? Supongamos que el spam contiene [2, 4, 6, 8, 10].) \n",
    "\n",
    "Se puede usar un índice de una lista para cambiar el valor de ese índice. \n",
    "Si spam = [2, 4, 6, 8, 10]\n",
    "Escribimos: spam[2] = hola\n",
    "\n",
    "Para las siguientes tres preguntas, digamos que spam contiene la lista [2, 4, 6, 8, 10].\n",
    "3. ¿Qué evalúa spam[int ('3' * 2) / 11]?\n",
    "\n",
    "No nos brinda ningún valor, ya que los índices de la lista no pueden ser flotantes, deben ser enteros.\n",
    "\n",
    "4. ¿Qué evalúa spam[-1]?\n",
    "\n",
    "Me indica cual es último elemento de la lista que en este caso es 10. \n",
    "    \n",
    "5. ¿Qué evalúa el spam[: 2]?\n",
    "\n",
    "Va arrojar los elementos desde el que está en la posición 2, que en este caso serían: \n",
    "[8, 10]\n",
    "\n",
    "Para las siguientes tres preguntas, digamos que bacon contiene la lista [3.14, 'cat', 11, 'cat', True].\n",
    "6. ¿Qué evalúa bacon.index('cat')?\n",
    "\n",
    "Nos indica la posición del elemento cat en la lista bacon, que es uno ya que Python cuenta desde el cero. \n",
    "\n",
    "7. ¿Qué evalúa bacon.append(99)?\n",
    "\n",
    "Añade el elemento a la lista en la última posición. \n",
    "\n",
    "8. ¿Qué hace bacon.remove('cat')?\n",
    "\n",
    "Se elimina el elemento cat de la lista bacon. \n",
    "\n",
    "9. ¿Cuáles son los operadores para la concatenación de listas y la replicación de listas?\n",
    "Son + y *. \n",
    "   \n",
    "10. ¿Cuál es la diferencia entre los métodos de lista append() e insert()?\n",
    "\n",
    "Que append añade al final de la lista el elemento, mientras que insert además de añadirlo, nos deja escoger la posición donde se va añadir.\n",
    "\n",
    "11. ¿Cuál es la diferencia entre listas y tuplas?\n",
    "Una lista es mutable, mientras que una tupla es inmutable y no se necesita encerrarla entre corchetes.\n"
   ]
  },
  {
   "cell_type": "code",
   "execution_count": 11,
   "metadata": {},
   "outputs": [],
   "source": [
    "def testprime(n):    #Función que verifique si un número es primo.\n",
    "    if (n==1):       #Hay que definirle que 1 no es un número primo, por lo tanto su valor es falso.\n",
    "        return False\n",
    "    elif (n==2):     #Sabemos que el primer número primo es el 2, por lo que será nuestro valor mínimo en el rango for.\n",
    "        return True;\n",
    "    else:\n",
    "        for x in range(2,n):   \n",
    "            if(n % x==0): #Hay que tomar en cuenta que si el residuo es cero de un divisor distinto de ese mismo número o uno, es falso.\n",
    "                return False\n",
    "            return True"
   ]
  },
  {
   "cell_type": "code",
   "execution_count": 12,
   "metadata": {},
   "outputs": [
    {
     "data": {
      "text/plain": [
       "True"
      ]
     },
     "execution_count": 12,
     "metadata": {},
     "output_type": "execute_result"
    }
   ],
   "source": [
    "testprime(2) #Prueba de la función "
   ]
  },
  {
   "cell_type": "code",
   "execution_count": 13,
   "metadata": {},
   "outputs": [],
   "source": [
    "def prime(numeroelegido):  #Función que me que genere los primos menores o iguales que N.\n",
    "\n",
    "    \n",
    "    primos = [] #En esta lista se van a guardar todos los primos menores iguales al número elegido. \n",
    "    for primo in range(2, numeroelegido + 1): #Intervalo al que pertenece el número que estamos provando. \n",
    "\n",
    "        \n",
    "        esprimo = True #Suponemos que es primo el número elegido. \n",
    "        for num in range(2, primo): #Intervalo al que pertenecen los posibles divisores con residuo cero, del número a prueba. \n",
    "            if primo % num == 0: #Si nos tenemos divisores diferentes a 1 o el número, es falso. \n",
    "                esprimo = False\n",
    "\n",
    "        if esprimo:\n",
    "            primos.append(primo)\n",
    "    return(primos)"
   ]
  },
  {
   "cell_type": "code",
   "execution_count": 14,
   "metadata": {},
   "outputs": [
    {
     "data": {
      "text/plain": [
       "[2, 3, 5, 7, 11, 13, 17, 19, 23]"
      ]
     },
     "execution_count": 14,
     "metadata": {},
     "output_type": "execute_result"
    }
   ],
   "source": [
    "prime(24) #Prueba de la función primos menores  iguales a N. "
   ]
  },
  {
   "cell_type": "code",
   "execution_count": 9,
   "metadata": {},
   "outputs": [],
   "source": [
    "def twinprimes(numero): #Función que me brinde los primos gemelos.\n",
    "    testprime(n)        #Aún no acabo esta completa la función. \n",
    "    if testprime(n) == True & testprime(n + 2) == True: \n",
    "        print(\"{} y {} son primos gemelos\".format(n,n + 2))"
   ]
  },
  {
   "cell_type": "code",
   "execution_count": 15,
   "metadata": {},
   "outputs": [
    {
     "name": "stdout",
     "output_type": "stream",
     "text": [
      "Entrada del primer número: 2\n",
      "Entrada del segundo número: 3\n",
      "El minimo comun multiplo de 2 y 3 es 6\n"
     ]
    }
   ],
   "source": [
    "def mcm(x1, x2):   #Función que nos dé el minimo común multiplo de dos números enteros.\n",
    "   if x1 > x2:\n",
    "       mayor = x1\n",
    "   else:\n",
    "       mayor = x2\n",
    "\n",
    "   while(True):\n",
    "       if((mayor % x1 == 0) and (mayor % x2 == 0)):\n",
    "           mcm = mayor\n",
    "           break\n",
    "       mayor += 1\n",
    "\n",
    "   return mcm\n",
    "\n",
    "num1 = int(input(\"Entrada del primer número: \"))\n",
    "num2 = int(input(\"Entrada del segundo número: \"))\n",
    "\n",
    "print(\"El minimo comun multiplo de\", num1,\"y\", num2,\"es\", mcm(num1, num2))"
   ]
  },
  {
   "cell_type": "code",
   "execution_count": 16,
   "metadata": {},
   "outputs": [
    {
     "name": "stdout",
     "output_type": "stream",
     "text": [
      "Entrada del primer número: 5\n",
      "Entrada del segundo número: 6\n",
      "El maximo comun divisor de 5 y 6 es 1\n"
     ]
    }
   ],
   "source": [
    "def MCD(x1, x2):      #Función del máximo común divisor \n",
    "    if x1 > x2:\n",
    "        menor = x1\n",
    "    else:\n",
    "        menor = x2\n",
    "    for i in range(1, menor+1):\n",
    "        if((x1 % i == 0) and (x2 % i == 0)):\n",
    "            MCD = i\n",
    "            \n",
    "    return MCD\n",
    "\n",
    "num1 = int(input(\"Entrada del primer número: \"))\n",
    "num2 = int(input(\"Entrada del segundo número: \"))\n",
    "\n",
    "print(\"El maximo comun divisor de\", num1,\"y\", num2,\"es\", MCD(num1, num2))"
   ]
  },
  {
   "cell_type": "code",
   "execution_count": 18,
   "metadata": {},
   "outputs": [
    {
     "name": "stdout",
     "output_type": "stream",
     "text": [
      "[25, 34, 22, 5]\n",
      "[22, 27, 17, 5]\n",
      "[31, 40, 25, 7]\n"
     ]
    }
   ],
   "source": [
    "A = [[1,4,3],            #En la matriz A y B se pueden cambiar los valores para multiplicarlas, ya que se me dificultó encontrar una forma de meter todos los coeficientes de la misma, igualmente se puede hacer en B. \n",
    "    [2,4,1],\n",
    "    [1,3,5]]\n",
    "\n",
    "B = [[5,3,1,2],\n",
    "    [2,4,3,0],\n",
    "    [4,5,3,1]]\n",
    "\n",
    "resultado = [[0,0,0,0],\n",
    "         [0,0,0,0],\n",
    "         [0,0,0,0]]\n",
    "\n",
    "#Por renglones\n",
    "for i in range(len(A)):\n",
    "   # Por columnas\n",
    "   for j in range(len(B[0])):\n",
    "       \n",
    "       for k in range(len(B)):\n",
    "           resultado[i][j] += A[i][k] * B[k][j]\n",
    "\n",
    "for r in resultado:\n",
    "   print(r)"
   ]
  },
  {
   "cell_type": "code",
   "execution_count": null,
   "metadata": {},
   "outputs": [],
   "source": []
  }
 ],
 "metadata": {
  "kernelspec": {
   "display_name": "Python 3",
   "language": "python",
   "name": "python3"
  },
  "language_info": {
   "codemirror_mode": {
    "name": "ipython",
    "version": 3
   },
   "file_extension": ".py",
   "mimetype": "text/x-python",
   "name": "python",
   "nbconvert_exporter": "python",
   "pygments_lexer": "ipython3",
   "version": "3.7.1"
  }
 },
 "nbformat": 4,
 "nbformat_minor": 2
}
