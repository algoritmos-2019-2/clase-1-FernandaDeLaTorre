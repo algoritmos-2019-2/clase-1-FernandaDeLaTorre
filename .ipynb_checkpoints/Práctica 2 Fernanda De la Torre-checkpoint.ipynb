{
 "cells": [
  {
   "cell_type": "markdown",
   "metadata": {},
   "source": [
    "# Práctica 2 \n",
    "### Funciones\n",
    "1. ¿Por qué son ventajosas las funciones para tener en sus programas?\n",
    "\n",
    "Porque la extensión de la fuente del programa se puede reducir usando funciones en lugares apropiados.Este punto es crítico con computadoras de poca capacidad de almacenamiento. Además las funciones definidas por el usuario ayudan a descomponer un programa largo en pequeños segmentos que hacen al programa más fácil de comprender y así como si existe un código repetido en el programa, una función puede ser usada para incluir esos códigos y ejecutarse cuando son necesitadas a la hora de llamarla.\n",
    "\n",
    "2. ¿Cuándo se ejecuta el código en una función: cuando se define la función o cuando se llama a la función?\n",
    "\n",
    "Cuando se llama a la función. \n",
    "\n",
    "3. ¿Qué enunciado crea una función?\n",
    "\n",
    "La palabra clave def marca el inicio de la creación de una función. La sintaxis de una función es: \n",
    "def nombredela_función(parámetro): (El parámetro es donde escogemos valores va a tomar la función, es opcional). \n",
    "\"\"\"docstring\"\"\" (Es opcional y describe lo que hace la función). \n",
    "Statements (Unidad sintáctica de un lenguaje de programación que expresa que una acción se lleve a cabo).\n",
    "\n",
    "4. ¿Cuál es la diferencia entre una función y una llamada de función? \n",
    "\n",
    "Un programa se ejecuta cuando se llama una función que ha sido definida por un programador o por una librería que forma parte del programa. Es decir, definir una función no la ejecuta, definir una función simplemente la nombra y especifica que hacer cuando la función es llamada. Llamar la función es lo que realmente realiza la acciones específicadas con los parámetros indicados. \n",
    "\n",
    "5. ¿Cuántos ámbitos globales hay en un programa de Python? ¿Cuántos ámbitos locales?\n",
    "\n",
    "Las variables locales sólo existen en una propia función y no son accesibles desde niveles superiores ya que a la hora de asignarles un valor en cualquier lugar de la función se asume que es local a menos de que se declare explícitamente como global, por lo que se ven desde un nivel superior no existen, mientras que una es varible global si se le asigna en el programa principal la variable. Pero en general, pueden haber  un número considerablemente grande en un programa de variables tanto locales como globales mientras cumplan con las propiedades descritas. \n",
    "Por lo que se dice que existe un ámbito gobal y varios locales. \n",
    "\n",
    "6. ¿Qué sucede con las variables en un ámbito local cuando se devuelve la llamada a la función?\n",
    "\n",
    "Pertenecen a otro ámbito local que se acaba de crear, incluso cuando se vuelve a llamar desde otra función. \n",
    "\n",
    "7. ¿Qué es un valor de retorno? ¿Cuál es el valor de retorno de una llamada a esa función? \n",
    "\n",
    "Las sentencias retorno en muchos lenguajes permiten que una función especifique un valor devuelto que se pasará de nuevo al código que llamó a la función. \n",
    "La instrucción retorno hace que la ejecución deje la subrutina actual y reanudar en el punto del código inmediatamente después de donde se llamó a la subrutina, conocida como una dirección de retorno. La dirección de devolución se guarda, normalmente en la pila de llamadas del proceso, como parte de la operación para realizar la subrutina. \n",
    "\n",
    "8. Si una función no tiene una declaración de retorno, ¿Cuál es el valor de retorno de una llamada a esa función?\n",
    "\n",
    "Ninguno, dado que aborta inmediatamente la ejecución de la llamada a la función.\n",
    "\n",
    "9. ¿Cómo puede forzar una variable en una función para referirse a la variable global?\n",
    "\n",
    "Si necesita modificar una variable global desde dentro de una función se usa la declaración global para que Python no la crea local. \n",
    "\n",
    "10. ¿Cuál es el tipo de datos de None? \n",
    "\n",
    "Python usa None para indicar un valor nulo o la ausencia de un valor, así como una función que no devuelve nada devuelve la ausencia de valor que es None. \n",
    "\n",
    "11. ¿Qué hace la declaración import random? \n",
    "\n",
    "Importa la librería random que ayuda a elegir un número aleatorio en un rango dado, así como tomar un elemento al azar de una lista, etcétera. El módulo random da acceso a funciones que soportan este tipo de operaciones.\n",
    "\n",
    "12. Si tuviera una función llamada randint() en un módulo llamado random, ¿Cómo lo llamaría después de importar random?\n",
    "\n",
    "Esta función devuelve un entero pseudoaleatorio entre a y b, la función de importa para poder usarla. La declaración de la importación random randint permite usar el nombre randint para llamar a la función.Si, en cambio se importara random se necesitaría usar la notación de puntos para especificar el nombre del módulo, en relación con el nombre de la función, para llamarlo. \n",
    "\n",
    "### Lista y tuplas\n",
    "1. ¿Qué es [ ]?\n",
    "\n",
    "En la notación de Python sirven para representar una lista, que debe estar entre estos corchetes y separados por comas. Si sólo están presentes los corchetes diremos que es una lista vacía. \n",
    "\n",
    "2. ¿Cómo asignaría el valor 'hola' como el tercer valor en una lista almacenada? ¿En una variable llamada spam? Supongamos que el spam contiene [2, 4, 6, 8, 10].) \n",
    "\n",
    "Se puede usar un índice de una lista para cambiar el valor de ese índice. \n",
    "Si spam = [2, 4, 6, 8, 10]\n",
    "Escribimos: spam[2] = hola\n",
    "\n",
    "Para las siguientes tres preguntas, digamos que spam contiene la lista [2, 4, 6, 8, 10].\n",
    "3. ¿Qué evalúa spam[int ('3' * 2) / 11]?\n",
    "\n",
    "\n",
    "4. ¿Qué evalúa spam[-1]?\n",
    "\n",
    "Me indica cual es último elemento de la lista que en este caso es 10. \n",
    "    \n",
    "5. ¿Qué evalúa el spam[: 2]?\n",
    "\n",
    "Va arrojar los elementos desde el que está en la posición 2, que en este caso serían: \n",
    "[8, 10]\n",
    "\n",
    "Para las siguientes tres preguntas, digamos que bacon contiene la lista [3.14, 'cat', 11, 'cat', True].\n",
    "6. ¿Qué evalúa bacon.index('cat')?\n",
    "\n",
    "Nos indica la posición del elemento cat en la lista bacon, que es uno ya que Python cuenta desde el cero. \n",
    "\n",
    "7. ¿Qué evalúa bacon.append(99)?\n",
    "\n",
    "Añade el elemento a la lista en la última posición. \n",
    "\n",
    "8. ¿Qué hace bacon.remove('cat')?\n",
    "\n",
    "Se elimina el elemento cat de la lista bacon. \n",
    "\n",
    "9. ¿Cuáles son los operadores para la concatenación de listas y la replicación de listas?\n",
    "Son + y *. \n",
    "   \n",
    "10. ¿Cuál es la diferencia entre los métodos de lista append() e insert()?\n",
    "\n",
    "Que append añade al final de la lista el elemento, mientras que insert además de añadirlo, nos deja escoger la posición donde se va añadir.\n",
    "\n",
    "11. ¿Cuál es la diferencia entre listas y tuplas?\n",
    "Una lista es mutable, mientras que una tupla es inmutable y no se necesita encerrarla entre corchetes.\n"
   ]
  },
  {
   "cell_type": "code",
   "execution_count": 2,
   "metadata": {},
   "outputs": [],
   "source": [
    "def testprime(n):\n",
    "    if (n==1):\n",
    "        return False\n",
    "    elif (n==2): \n",
    "        return True;\n",
    "    else:\n",
    "        for x in range(2,n):   \n",
    "            if(n % x==0):\n",
    "                return False\n",
    "            return True"
   ]
  },
  {
   "cell_type": "code",
   "execution_count": 3,
   "metadata": {},
   "outputs": [
    {
     "data": {
      "text/plain": [
       "True"
      ]
     },
     "execution_count": 3,
     "metadata": {},
     "output_type": "execute_result"
    }
   ],
   "source": [
    "testprime(2)"
   ]
  },
  {
   "cell_type": "code",
   "execution_count": 24,
   "metadata": {},
   "outputs": [],
   "source": [
    "def prime(numeroelegido):\n",
    "\n",
    "    \n",
    "    primos = []\n",
    "    for primo in range(2, numeroelegido + 1):\n",
    "\n",
    "        \n",
    "        esprimo = True\n",
    "        for num in range(2, primo):\n",
    "            if primo % num == 0:\n",
    "                esprimo = False\n",
    "\n",
    "        if esprimo:\n",
    "            primos.append(primo)\n",
    "    return(primos)"
   ]
  },
  {
   "cell_type": "code",
   "execution_count": 26,
   "metadata": {},
   "outputs": [
    {
     "data": {
      "text/plain": [
       "[2, 3, 5, 7, 11, 13, 17, 19, 23, 29]"
      ]
     },
     "execution_count": 26,
     "metadata": {},
     "output_type": "execute_result"
    }
   ],
   "source": [
    "prime(30)"
   ]
  },
  {
   "cell_type": "code",
   "execution_count": 43,
   "metadata": {},
   "outputs": [],
   "source": [
    "def twinprimes(n):\n",
    "    testprime(n)\n",
    "    if testprime(n) == True & testprime(n + 2) == True: \n",
    "        print(\"{} y {} son primos gemelos\".format(n,n + 2))"
   ]
  },
  {
   "cell_type": "code",
   "execution_count": 42,
   "metadata": {},
   "outputs": [
    {
     "ename": "NameError",
     "evalue": "name 'n' is not defined",
     "output_type": "error",
     "traceback": [
      "\u001b[0;31m---------------------------------------------------------------------------\u001b[0m",
      "\u001b[0;31mNameError\u001b[0m                                 Traceback (most recent call last)",
      "\u001b[0;32m<ipython-input-42-467ec1190224>\u001b[0m in \u001b[0;36m<module>\u001b[0;34m\u001b[0m\n\u001b[0;32m----> 1\u001b[0;31m \u001b[0mtwinprimes\u001b[0m\u001b[0;34m(\u001b[0m\u001b[0;36m13\u001b[0m\u001b[0;34m)\u001b[0m\u001b[0;34m\u001b[0m\u001b[0;34m\u001b[0m\u001b[0m\n\u001b[0m",
      "\u001b[0;32m<ipython-input-41-e907282d6894>\u001b[0m in \u001b[0;36mtwinprimes\u001b[0;34m(m)\u001b[0m\n\u001b[1;32m      1\u001b[0m \u001b[0;32mdef\u001b[0m \u001b[0mtwinprimes\u001b[0m\u001b[0;34m(\u001b[0m\u001b[0mm\u001b[0m\u001b[0;34m)\u001b[0m\u001b[0;34m:\u001b[0m\u001b[0;34m\u001b[0m\u001b[0;34m\u001b[0m\u001b[0m\n\u001b[0;32m----> 2\u001b[0;31m     \u001b[0mtestprime\u001b[0m\u001b[0;34m(\u001b[0m\u001b[0mn\u001b[0m\u001b[0;34m)\u001b[0m\u001b[0;34m\u001b[0m\u001b[0;34m\u001b[0m\u001b[0m\n\u001b[0m\u001b[1;32m      3\u001b[0m     \u001b[0;32mif\u001b[0m \u001b[0mtestprime\u001b[0m\u001b[0;34m(\u001b[0m\u001b[0mn\u001b[0m\u001b[0;34m)\u001b[0m \u001b[0;34m==\u001b[0m \u001b[0;32mTrue\u001b[0m \u001b[0;34m&\u001b[0m \u001b[0mtestprime\u001b[0m\u001b[0;34m(\u001b[0m\u001b[0mn\u001b[0m \u001b[0;34m+\u001b[0m \u001b[0;36m2\u001b[0m\u001b[0;34m)\u001b[0m \u001b[0;34m==\u001b[0m \u001b[0;32mTrue\u001b[0m\u001b[0;34m:\u001b[0m\u001b[0;34m\u001b[0m\u001b[0;34m\u001b[0m\u001b[0m\n\u001b[1;32m      4\u001b[0m         \u001b[0mprint\u001b[0m\u001b[0;34m(\u001b[0m\u001b[0;34m\"{} y {} son primos gemelos\"\u001b[0m\u001b[0;34m.\u001b[0m\u001b[0mformat\u001b[0m\u001b[0;34m(\u001b[0m\u001b[0mn\u001b[0m\u001b[0;34m,\u001b[0m\u001b[0mn\u001b[0m \u001b[0;34m+\u001b[0m \u001b[0;36m2\u001b[0m\u001b[0;34m)\u001b[0m\u001b[0;34m)\u001b[0m\u001b[0;34m\u001b[0m\u001b[0;34m\u001b[0m\u001b[0m\n",
      "\u001b[0;31mNameError\u001b[0m: name 'n' is not defined"
     ]
    }
   ],
   "source": [
    "twinprimes(13)"
   ]
  },
  {
   "cell_type": "code",
   "execution_count": null,
   "metadata": {},
   "outputs": [],
   "source": []
  }
 ],
 "metadata": {
  "kernelspec": {
   "display_name": "Python 3",
   "language": "python",
   "name": "python3"
  },
  "language_info": {
   "codemirror_mode": {
    "name": "ipython",
    "version": 3
   },
   "file_extension": ".py",
   "mimetype": "text/x-python",
   "name": "python",
   "nbconvert_exporter": "python",
   "pygments_lexer": "ipython3",
   "version": "3.7.1"
  }
 },
 "nbformat": 4,
 "nbformat_minor": 2
}
